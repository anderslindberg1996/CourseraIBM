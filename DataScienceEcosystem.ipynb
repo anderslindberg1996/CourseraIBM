{
 "cells": [
  {
   "cell_type": "markdown",
   "id": "f6b4def9",
   "metadata": {},
   "source": [
    "# Data Science Tools and Ecosystem"
   ]
  },
  {
   "cell_type": "markdown",
   "id": "4945c6b0",
   "metadata": {},
   "source": [
    "In this notebook, Data Science Tools and Ecosystem are summarized."
   ]
  },
  {
   "cell_type": "markdown",
   "id": "143f49db",
   "metadata": {},
   "source": [
    "**Objectives:**\n",
    "* Provide an overview of common tools and libraries used in data science.\n",
    "* List popular programming languages for data science and their respective advantages.\n",
    "* Introduce common data analysis techniques, such as exploratory data analysis and data visualization.\n",
    "* Demonstrate how to use Python and popular data science libraries for data analysis and visualization.\n",
    "* Provide examples of real-world data science projects and their applications."
   ]
  },
  {
   "cell_type": "markdown",
   "id": "0131987e",
   "metadata": {},
   "source": [
    "Some of the popular languages that Data Scientists use are:\n",
    "\n",
    "    1. Python\n",
    "    2. R\n",
    "    3. Julia"
   ]
  },
  {
   "cell_type": "markdown",
   "id": "a961a99c",
   "metadata": {},
   "source": [
    "Some of the commonly used libraries used by Data Scientists include:\n",
    "\n",
    "* NumPy: A library for working with arrays and numerical computations in Python.\n",
    "* Pandas: A library for data manipulation and analysis in Python.\n",
    "* Matplotlib: A library for creating visualizations and plotting data in Python."
   ]
  },
  {
   "cell_type": "markdown",
   "id": "4c842c34",
   "metadata": {},
   "source": [
    "| Data Science Tools |\n",
    "------------------------\n",
    "| Jupuyter Notebook |\n",
    "| RStudio |\n",
    "| Spyder |"
   ]
  },
  {
   "cell_type": "markdown",
   "id": "1115d111",
   "metadata": {},
   "source": [
    "### Below are a few examples of evaluating arithmetic expressions in Python"
   ]
  },
  {
   "cell_type": "code",
   "execution_count": 1,
   "id": "d6a72373",
   "metadata": {},
   "outputs": [
    {
     "data": {
      "text/plain": [
       "17"
      ]
     },
     "execution_count": 1,
     "metadata": {},
     "output_type": "execute_result"
    }
   ],
   "source": [
    "(3*4)+5 #  This a simple arithmetic expression to mutiply then add integers"
   ]
  },
  {
   "cell_type": "code",
   "execution_count": 2,
   "id": "22a3d076",
   "metadata": {},
   "outputs": [
    {
     "name": "stdout",
     "output_type": "stream",
     "text": [
      "3.3333333333333335\n"
     ]
    }
   ],
   "source": [
    "minutes = 200\n",
    "hours = minutes / 60\n",
    "\n",
    "print(hours) # This will convert 200 minutes to hours by diving by 60"
   ]
  },
  {
   "cell_type": "markdown",
   "id": "b05cf80c",
   "metadata": {},
   "source": [
    "## Author\n",
    "Anders Lindberg Olsen"
   ]
  },
  {
   "cell_type": "code",
   "execution_count": null,
   "id": "bf3ca1a4",
   "metadata": {},
   "outputs": [],
   "source": []
  }
 ],
 "metadata": {
  "kernelspec": {
   "display_name": "Python 3 (ipykernel)",
   "language": "python",
   "name": "python3"
  },
  "language_info": {
   "codemirror_mode": {
    "name": "ipython",
    "version": 3
   },
   "file_extension": ".py",
   "mimetype": "text/x-python",
   "name": "python",
   "nbconvert_exporter": "python",
   "pygments_lexer": "ipython3",
   "version": "3.8.2"
  }
 },
 "nbformat": 4,
 "nbformat_minor": 5
}
